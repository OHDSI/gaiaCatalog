{
 "cells": [
  {
   "cell_type": "markdown",
   "id": "6340415b5198e5f8",
   "metadata": {},
   "source": [
    "# Graph exploring"
   ]
  },
  {
   "cell_type": "code",
   "execution_count": null,
   "id": "initial_id",
   "metadata": {
    "ExecuteTime": {
     "end_time": "2025-10-07T19:19:10.485106Z",
     "start_time": "2025-10-07T19:19:07.945620Z"
    }
   },
   "outputs": [],
   "source": [
    "import warnings\n",
    "warnings.simplefilter(action='ignore', category=FutureWarning)  ## remove pandas future warning\n",
    "from pyld import jsonld\n",
    "import json\n",
    "import pandas as pd\n",
    "import io\n",
    "import glob\n",
    "import tempfile\n",
    "import os\n",
    "import pyoxigraph\n",
    "import requests\n",
    "import advertools as adv\n",
    "import logging \n",
    "from scrapy.utils.log import configure_logging\n",
    "\n",
    "from pygraphml import GraphMLParser\n",
    "from pygraphml import Graph as GraphML \n",
    "import networkx as nx\n",
    "from ipysigma import Sigma\n",
    "from SPARQLWrapper import SPARQLWrapper, JSON\n",
    "from hashlib import sha256\n",
    "from io import StringIO\n",
    "\n",
    "import datasets\n",
    "import pandas as pd\n",
    "from datasets import load_dataset\n",
    "import torch\n",
    "# from relik import Relik\n",
    "# from relik.inference.data.objects import RelikOutput\n",
    "from tqdm import tqdm\n",
    "\n",
    "import logging\n",
    "logging.basicConfig(level=logging.INFO)\n",
    "# logging.getLogger('relik').setLevel(logging.INFO)"
   ]
  },
  {
   "cell_type": "code",
   "execution_count": null,
   "id": "3988b352",
   "metadata": {
    "ExecuteTime": {
     "end_time": "2025-10-07T19:19:10.571517Z",
     "start_time": "2025-10-07T19:19:10.559590Z"
    }
   },
   "outputs": [],
   "source": [
    "logging.getLogger(\"urllib3\").setLevel(logging.ERROR)\n",
    "logging.getLogger(\"requests\").setLevel(logging.ERROR)\n",
    "configure_logging(install_root_handler=False)\n",
    "logging.getLogger(\"scrapy\").setLevel(logging.ERROR)"
   ]
  },
  {
   "cell_type": "code",
   "execution_count": null,
   "id": "6a38ee9c80306492",
   "metadata": {
    "ExecuteTime": {
     "end_time": "2025-10-07T19:19:10.607377Z",
     "start_time": "2025-10-07T19:19:10.580259Z"
    }
   },
   "outputs": [],
   "source": [
    "store = pyoxigraph.Store()  #  memory store  \n",
    "store = pyoxigraph.Store(path=\"./store\")  # disk based store\n",
    "mime_type = \"application/n-quads\"   # application/n-triples or application/n-quads if you are loading those"
   ]
  },
  {
   "cell_type": "code",
   "execution_count": null,
   "id": "e709121a",
   "metadata": {
    "ExecuteTime": {
     "end_time": "2025-10-07T19:19:10.635599Z",
     "start_time": "2025-10-07T19:19:10.632769Z"
    }
   },
   "outputs": [],
   "source": [
    "store.clear()"
   ]
  },
  {
   "cell_type": "code",
   "execution_count": null,
   "id": "8b1a36ce-90f1-4dfe-91fc-89833e985cae",
   "metadata": {},
   "outputs": [],
   "source": [
    "sourcesOLD = glob.glob(\"../datastore/data/**/meta_json-ld*.json\") + glob.glob(\"../datastore/data/**/**/meta_json-ld*.json\")\n",
    "sourcesOLD"
   ]
  },
  {
   "cell_type": "code",
   "execution_count": null,
   "id": "405d6910417e1136",
   "metadata": {
    "ExecuteTime": {
     "end_time": "2025-10-07T19:19:10.688982Z",
     "start_time": "2025-10-07T19:19:10.685351Z"
    }
   },
   "outputs": [],
   "source": [
    "\n",
    "sourcesOLD = [\n",
    "    \"../datastore/data/global_pm25_concentration_1998_2016/meta_json-ld_global_pm25_concentration_1998_2016.json\",\n",
    "    # \"../datastore/data/ma_2018_svi_tract/meta_json-ld_ma_2018_svi_tract.json\",\n",
    "    # \"../datastore/data/tz_1984_copernicus_avg_temp/meta_json-ld_tz_1984_copernicus_avg_temp.json\",\n",
    "    # \"../datastore/data/us_2018_svi_county/meta_json-ld_us_2018_svi_county.json\",\n",
    "    # \"../datastore/data/tz_2022_nbs/tz_2022_nbs_districts/meta_json-ld_tz_2022_nbs_districts.json\",\n",
    "    # \"../datastore/data/tz_2022_nbs_magu_district/meta_json-ld_tz_2022_nbs_magu_district.json\",\n",
    "    # \"../datastore/data/tz_magu_dem_srtm/meta_json-ld_tz_magu_dem_srtm.json\",\n",
    "    # \"../datastore/data/tz_populated_places_osm/meta_json-ld_tz_populated_places_osm.json\",\n",
    "    # \"../datastore/data/tz_regions_osm/meta_json-ld_tz_regions_osm.json\"\n",
    "]"
   ]
  },
  {
   "cell_type": "code",
   "execution_count": null,
   "id": "1635608d35332d39",
   "metadata": {
    "ExecuteTime": {
     "end_time": "2025-10-07T19:19:10.741986Z",
     "start_time": "2025-10-07T19:19:10.738491Z"
    }
   },
   "outputs": [],
   "source": [
    "# NOT USED\n",
    "def custom_document_loader(url, options):\n",
    "    \"\"\"Custom document loader that returns empty context for invalid URLs\"\"\"\n",
    "    if url == '@context':\n",
    "        # Return an empty context document\n",
    "        return {\n",
    "            'contextUrl': None,\n",
    "            'documentUrl': url,\n",
    "            'document': {}\n",
    "        }\n",
    "    # For other URLs, you might want to handle them differently\n",
    "    # or let the default loader handle them\n",
    "    raise jsonld.JsonLdError(\n",
    "        f'URL could not be loaded: {url}',\n",
    "        'jsonld.LoadDocumentError',\n",
    "        {'url': url}\n",
    "    )"
   ]
  },
  {
   "cell_type": "code",
   "execution_count": null,
   "id": "3929a1cc-8663-4c88-8c0b-cbe72b6e8a63",
   "metadata": {},
   "outputs": [],
   "source": [
    "sources = glob.glob(\"../datastore/nquads/*.nq\")\n",
    "sources.remove('../datastore/nquads/meta_json-ld_tz_magu_dem_srtm.nq')\n",
    "sources"
   ]
  },
  {
   "cell_type": "code",
   "execution_count": null,
   "id": "66fb33bae3cefc8f",
   "metadata": {
    "ExecuteTime": {
     "end_time": "2025-10-07T19:19:10.813261Z",
     "start_time": "2025-10-07T19:19:10.810458Z"
    }
   },
   "outputs": [],
   "source": [
    "sources = [\n",
    "    \"./data/meta_json-ld_global_pm25_concentration_1998_2016.nq\",\n",
    "    \"./data/meta_json-ld_ma_2018_svi_tract.nq\",\n",
    "    \"./data/meta_json-ld_tz_1984_copernicus_avg_temp.nq\",\n",
    "    \"./data/meta_json-ld_tz_2022_nbs_districts.nq\",\n",
    "    \"./data/meta_json-ld_tz_2022_nbs_magu_district.nq\",\n",
    "    # \"./data/meta_json-ld_tz_magu_dem_srtm.nq\",\n",
    "    \"./data/meta_json-ld_tz_populated_places_osm.nq\",\n",
    "    \"./data/meta_json-ld_tz_regions_osm.nq\",\n",
    "    \"./data/meta_json-ld_us_2018_svi_county.nq\"\n",
    "]\n",
    "\n"
   ]
  },
  {
   "cell_type": "code",
   "execution_count": null,
   "id": "19db8325",
   "metadata": {
    "ExecuteTime": {
     "end_time": "2025-10-07T19:19:10.885001Z",
     "start_time": "2025-10-07T19:19:10.869235Z"
    }
   },
   "outputs": [],
   "source": [
    "# Read a JSON file and parse it\n",
    "for s in sources:\n",
    "    with open(s) as nq_file:\n",
    "        print(s)\n",
    "        store.load(nq_file, pyoxigraph.RdfFormat.N_QUADS, base_iri=None, to_graph=None)"
   ]
  },
  {
   "cell_type": "code",
   "execution_count": null,
   "id": "3b0214f0-c56a-46a8-8b1e-3f874a23a149",
   "metadata": {},
   "outputs": [],
   "source": [
    "#Read a JSON file and parse it\n",
    "for s in sourcesOLD:\n",
    "    print(s)\n",
    "    doc_array = None\n",
    "    with open(s) as json_file:\n",
    "      doc_array = json.load(json_file)\n",
    "\n",
    "    for ind, x in enumerate(doc_array):\n",
    "        doc = json.loads(json.dumps(doc_array[x]))  # x is a dict so we need to typecast\n",
    "        normalized = jsonld.normalize(doc, {'algorithm': 'URDNA2015', 'format': 'application/n-quads'})\n",
    "        ns = io.StringIO(normalized)\n",
    "        store.load(ns, mime_type, base_iri=None, to_graph=None)"
   ]
  },
  {
   "cell_type": "code",
   "execution_count": null,
   "id": "7a4ca947-9168-4b0b-b7b8-1e5b6fd8705a",
   "metadata": {},
   "outputs": [],
   "source": [
    "for ind, x in enumerate(doc_array): print(json.dumps(doc_array[x]))"
   ]
  },
  {
   "cell_type": "code",
   "execution_count": null,
   "id": "d770f0573983bb76",
   "metadata": {
    "ExecuteTime": {
     "end_time": "2025-10-07T19:19:10.924613Z",
     "start_time": "2025-10-07T19:19:10.921432Z"
    }
   },
   "outputs": [],
   "source": [
    "## NOTE   schema:contentURL changed!!!\n",
    "\n",
    "qtest = \"\"\"\tPREFIX schema: <https://schema.org/>\n",
    "SELECT ?s ?o \n",
    "WHERE {\n",
    "      ?s schema:description ?o .\n",
    " }\n",
    "\"\"\"\n",
    "\n",
    "q1 = list(store.query(qtest))"
   ]
  },
  {
   "cell_type": "code",
   "execution_count": null,
   "id": "9374ff5cd50c63af",
   "metadata": {
    "ExecuteTime": {
     "end_time": "2025-10-07T19:19:10.977768Z",
     "start_time": "2025-10-07T19:19:10.973292Z"
    }
   },
   "outputs": [],
   "source": [
    "df1 = pd.DataFrame(q1, columns=[\"subject\",  \"object\" ])"
   ]
  },
  {
   "cell_type": "code",
   "execution_count": null,
   "id": "5c1952866472c429",
   "metadata": {
    "ExecuteTime": {
     "end_time": "2025-10-07T19:19:11.084565Z",
     "start_time": "2025-10-07T19:19:11.061675Z"
    }
   },
   "outputs": [],
   "source": [
    "df1"
   ]
  },
  {
   "cell_type": "code",
   "execution_count": null,
   "id": "205b0f827a5657d1",
   "metadata": {
    "ExecuteTime": {
     "end_time": "2025-10-07T19:19:11.227478Z",
     "start_time": "2025-10-07T19:19:11.222897Z"
    }
   },
   "outputs": [],
   "source": [
    "term_counts = df1['object'].value_counts().reset_index()\n",
    "\n",
    "# Rename the columns for clarity\n",
    "term_counts.columns = ['object', 'count']"
   ]
  },
  {
   "cell_type": "code",
   "execution_count": null,
   "id": "ef551a47bceb4a63",
   "metadata": {
    "ExecuteTime": {
     "end_time": "2025-10-07T20:57:04.319483Z",
     "start_time": "2025-10-07T20:57:04.313219Z"
    }
   },
   "outputs": [],
   "source": [
    "term_counts.head(30)"
   ]
  },
  {
   "cell_type": "markdown",
   "id": "ac4c503033247182",
   "metadata": {},
   "source": [
    "## Visualization section"
   ]
  },
  {
   "cell_type": "code",
   "execution_count": null,
   "id": "1cfc7f0128182168",
   "metadata": {
    "ExecuteTime": {
     "end_time": "2025-10-07T20:57:11.782102Z",
     "start_time": "2025-10-07T20:57:11.776060Z"
    }
   },
   "outputs": [],
   "source": [
    "#  a == rdf:type  == <http://www.w3.org/1999/02/22-rdf-syntax-ns#type>\n",
    "\n",
    "qtypetype = \"\"\"\tPREFIX rdf: <http://www.w3.org/1999/02/22-rdf-syntax-ns#>\n",
    "PREFIX rdfs: <http://www.w3.org/2000/01/rdf-schema#>\n",
    "PREFIX xsd: <http://www.w3.org/2001/XMLSchema#>\n",
    "PREFIX schema: <https://schema.org/>\n",
    "\n",
    "SELECT DISTINCT ?source ?connectedBy ?target ?sType ?tType\n",
    "WHERE {\n",
    "    ?source a ?sType .\n",
    "    ?target a ?tType .\n",
    "    ?source ?connectedBy ?target .\n",
    "}\n",
    "\"\"\"\n",
    "\n",
    "# qtypetype = \"\"\"\tPREFIX rdf: <http://www.w3.org/1999/02/22-rdf-syntax-ns#>\n",
    "# PREFIX rdfs: <http://www.w3.org/2000/01/rdf-schema#>\n",
    "# PREFIX xsd: <http://www.w3.org/2001/XMLSchema#>\n",
    "# PREFIX schema: <https://schema.org/>\n",
    "#\n",
    "# SELECT DISTINCT ?source ?sType ?kw\n",
    "# WHERE {\n",
    "#     ?source a ?sType .\n",
    "#     ?source schema:keywords ?kw .\n",
    "# }\n",
    "# \"\"\"\n",
    "\n",
    "q2 = list(store.query(qtypetype))"
   ]
  },
  {
   "cell_type": "code",
   "execution_count": null,
   "id": "3a722f9224a500f",
   "metadata": {
    "ExecuteTime": {
     "end_time": "2025-10-07T20:58:04.144699Z",
     "start_time": "2025-10-07T20:58:04.141270Z"
    }
   },
   "outputs": [],
   "source": [
    "# df2 = pd.DataFrame(q2, columns=[\"source\", \"sType\", \"keyword\"])\n",
    "df2 = pd.DataFrame(q2, columns=[\"source\", \"connecteBy\", \"target\", \"sType\", \"tType\"])\n"
   ]
  },
  {
   "cell_type": "code",
   "execution_count": null,
   "id": "acea71474c2d3da8",
   "metadata": {
    "ExecuteTime": {
     "end_time": "2025-10-07T20:58:09.642027Z",
     "start_time": "2025-10-07T20:58:09.637797Z"
    }
   },
   "outputs": [],
   "source": [
    "df2 = df2.astype(str) # convert oxigraph types to string"
   ]
  },
  {
   "cell_type": "code",
   "execution_count": null,
   "id": "910c8479-cf85-41b6-b8d3-f91c901cfa8f",
   "metadata": {
    "ExecuteTime": {
     "end_time": "2025-10-07T20:59:01.679803Z",
     "start_time": "2025-10-07T20:59:01.639904Z"
    }
   },
   "outputs": [],
   "source": [
    "gml = GraphML()\n",
    "gml.directed = False\n",
    "\n",
    "for index, row in df2.iterrows():\n",
    "    n1 = gml.add_node(row['source'])\n",
    "    n1['type'] = row['sType']\n",
    "    \n",
    "    n2 = gml.add_node(row['target'])\n",
    "    n2['type'] = \"tType\"\n",
    " \n",
    "    e1 = gml.add_edge(n1, n2)\n",
    "\n",
    "# Create a temporary file\n",
    "with tempfile.NamedTemporaryFile(delete=False, mode='w') as temp_file:\n",
    "    temp_filename = temp_file.name\n",
    "    # Write the GraphML content to the temporary file\n",
    "    parser = GraphMLParser()\n",
    "    parser.write(gml, temp_filename)\n",
    "    \n",
    "g = nx.read_graphml(temp_filename)\n",
    "\n",
    "os.remove(temp_filename)\n"
   ]
  },
  {
   "cell_type": "code",
   "execution_count": null,
   "id": "167172ed320daebd",
   "metadata": {
    "ExecuteTime": {
     "end_time": "2025-10-07T21:10:51.856279Z",
     "start_time": "2025-10-07T21:10:51.838503Z"
    }
   },
   "outputs": [],
   "source": [
    "# optional write the GML out\n",
    "# fname = \"./rdfGraphs2.graphml\"\n",
    "# parser = GraphMLParser()\n",
    "# parser.write(gml, fname)\n"
   ]
  },
  {
   "cell_type": "code",
   "execution_count": null,
   "id": "b978fc2cf506d0a5",
   "metadata": {
    "ExecuteTime": {
     "end_time": "2025-10-07T21:00:03.768795Z",
     "start_time": "2025-10-07T21:00:03.756395Z"
    }
   },
   "outputs": [],
   "source": [
    "Sigma(\n",
    "    g,\n",
    "    node_size=g.degree,\n",
    "    default_edge_type='curve',\n",
    "    node_border_color_from='node',\n",
    "    node_metrics=['louvain'],\n",
    "    node_color='louvain',\n",
    "    start_layout=5,\n",
    "    edge_size=lambda u, v: g.degree(u) + g.degree(v),\n",
    "    edge_size_range=(0.5, 5),\n",
    "    label_font='cursive',\n",
    "    node_label_size=g.degree,\n",
    "    label_density=0\n",
    ")\n"
   ]
  },
  {
   "cell_type": "markdown",
   "id": "29a3bf661af20b89",
   "metadata": {},
   "source": [
    "## test relik against the descriptions"
   ]
  },
  {
   "cell_type": "code",
   "execution_count": null,
   "id": "768d70c3479dc704",
   "metadata": {
    "ExecuteTime": {
     "end_time": "2024-09-09T21:00:23.462129Z",
     "start_time": "2024-09-09T21:00:23.459718Z"
    }
   },
   "outputs": [],
   "source": [
    "def clean_memory():\n",
    "    # clean up a bit\n",
    "    import gc\n",
    "\n",
    "    relik = None\n",
    "    gc.collect()\n",
    "    torch.cuda.empty_cache()"
   ]
  },
  {
   "cell_type": "code",
   "execution_count": null,
   "id": "af60959d3873d71a",
   "metadata": {
    "ExecuteTime": {
     "end_time": "2024-09-09T21:00:23.775959Z",
     "start_time": "2024-09-09T21:00:23.773688Z"
    }
   },
   "outputs": [],
   "source": [
    "def my_function(row):\n",
    "  # Perform calculations or transformations on the row\n",
    "  relik_out: RelikOutput = relik(row['description'])\n",
    "  return relik_out"
   ]
  },
  {
   "cell_type": "code",
   "execution_count": null,
   "id": "6f4d5848cf6638dc",
   "metadata": {
    "ExecuteTime": {
     "end_time": "2024-09-09T21:00:24.234819Z",
     "start_time": "2024-09-09T21:00:24.232834Z"
    }
   },
   "outputs": [],
   "source": [
    "tqdm.pandas()"
   ]
  },
  {
   "cell_type": "code",
   "execution_count": null,
   "id": "7d40e766f45393ac",
   "metadata": {
    "ExecuteTime": {
     "end_time": "2024-09-09T21:00:24.931357Z",
     "start_time": "2024-09-09T21:00:24.792250Z"
    }
   },
   "outputs": [],
   "source": [
    "clean_memory()"
   ]
  },
  {
   "cell_type": "code",
   "execution_count": null,
   "id": "887a3ac7b4ec1680",
   "metadata": {
    "ExecuteTime": {
     "end_time": "2024-09-09T21:01:03.390237Z",
     "start_time": "2024-09-09T21:00:25.786149Z"
    }
   },
   "outputs": [],
   "source": [
    "relik = Relik.from_pretrained(\n",
    "    \"sapienzanlp/relik-entity-linking-small\",\n",
    "    # device=\"cuda\" if torch.cuda.is_available() else \"cpu\",\n",
    "    # precision=\"fp16\" if torch.cuda.is_available() else \"fp32\",\n",
    "    device=\"cpu\", \n",
    "    precision=\"fp32\",  \n",
    "    skip_metadata=True,  # don't load index metadata to keep low memory requirements\n",
    "    verbose=False  # Add this line to suppress debug output\n",
    ")\n",
    "\n",
    "# \n",
    "# relik = Relik.from_pretrained(\n",
    "#     \"relik-ie/relik-relation-extraction-small\",\n",
    "#     device=\"cuda\" if torch.cuda.is_available() else \"cpu\",\n",
    "#     precision=\"fp16\" if torch.cuda.is_available() else \"fp32\",\n",
    "#     skip_metadata=True,  # don't load index metadata to keep low memory requirements\n",
    "# )\n"
   ]
  },
  {
   "cell_type": "code",
   "execution_count": null,
   "id": "b57392d77d0c856",
   "metadata": {
    "ExecuteTime": {
     "end_time": "2024-09-09T21:01:11.500315Z",
     "start_time": "2024-09-09T21:01:11.488646Z"
    }
   },
   "outputs": [],
   "source": [
    "\n",
    "qdesc = \"\"\"\tPREFIX schema: <https://schema.org/>\n",
    "SELECT ?s ?o \n",
    "WHERE {\n",
    "      ?s schema:description ?o .\n",
    " }\n",
    "\"\"\"\n",
    "\n",
    "q3 = list(store.query(qdesc))"
   ]
  },
  {
   "cell_type": "code",
   "execution_count": null,
   "id": "76c9f65cae66866b",
   "metadata": {
    "ExecuteTime": {
     "end_time": "2024-09-09T21:01:12.255835Z",
     "start_time": "2024-09-09T21:01:12.250188Z"
    }
   },
   "outputs": [],
   "source": [
    "df3 = pd.DataFrame(q3, columns=[\"source\", \"description\"])"
   ]
  },
  {
   "cell_type": "code",
   "execution_count": null,
   "id": "649efad5629ef8cd",
   "metadata": {
    "ExecuteTime": {
     "end_time": "2024-09-09T21:01:12.975522Z",
     "start_time": "2024-09-09T21:01:12.963252Z"
    }
   },
   "outputs": [],
   "source": [
    "df3 = df3.astype(str) # convert oxigraph types to string"
   ]
  },
  {
   "cell_type": "code",
   "execution_count": null,
   "id": "6461c2399f1723f3",
   "metadata": {
    "ExecuteTime": {
     "end_time": "2024-09-09T21:01:13.805651Z",
     "start_time": "2024-09-09T21:01:13.801014Z"
    }
   },
   "outputs": [],
   "source": [
    "df3"
   ]
  },
  {
   "cell_type": "code",
   "execution_count": null,
   "id": "b126adf6d7fda41f",
   "metadata": {
    "ExecuteTime": {
     "end_time": "2024-09-09T21:06:20.560556Z",
     "start_time": "2024-09-09T21:06:20.558376Z"
    }
   },
   "outputs": [],
   "source": [
    "df_b = pd.DataFrame()"
   ]
  },
  {
   "cell_type": "code",
   "execution_count": null,
   "id": "bf1e41b8c128a4bb",
   "metadata": {
    "ExecuteTime": {
     "end_time": "2024-09-10T00:32:21.705013Z",
     "start_time": "2024-09-09T21:06:33.695862Z"
    }
   },
   "outputs": [],
   "source": [
    "for index, row in tqdm(df3.iterrows(), total=df3.shape[0]):\n",
    "  result_dict = my_function(row)\n",
    "  df = pd.DataFrame(result_dict.spans)\n",
    "  # df = pd.DataFrame(result_dict.triplets)\n",
    "  df['iri'] = row['source']\n",
    "  df_b = pd.concat([df_b, df], ignore_index=True)"
   ]
  },
  {
   "cell_type": "code",
   "execution_count": null,
   "id": "3c4aee13ce1851f",
   "metadata": {
    "ExecuteTime": {
     "end_time": "2024-09-10T01:13:24.447480Z",
     "start_time": "2024-09-10T01:13:24.422512Z"
    }
   },
   "outputs": [],
   "source": [
    "# takes 3.5 hrs to build\n",
    "df_b.to_parquet('df_b.parquet')"
   ]
  },
  {
   "cell_type": "code",
   "execution_count": null,
   "id": "ade85ab985ce36fd",
   "metadata": {
    "ExecuteTime": {
     "end_time": "2024-09-10T01:15:31.902522Z",
     "start_time": "2024-09-10T01:15:31.899615Z"
    }
   },
   "outputs": [],
   "source": [
    "count_series = df_b['label'].value_counts()\n",
    "\n"
   ]
  },
  {
   "cell_type": "code",
   "execution_count": null,
   "id": "9860f21ac2f15ef",
   "metadata": {
    "ExecuteTime": {
     "end_time": "2024-09-10T01:16:51.580444Z",
     "start_time": "2024-09-10T01:16:51.575931Z"
    }
   },
   "outputs": [],
   "source": [
    "count_series.to_csv('value_counts.csv', header=True, index_label='Value')\n"
   ]
  },
  {
   "cell_type": "code",
   "execution_count": null,
   "id": "fa6edd0cb3bf0824",
   "metadata": {
    "ExecuteTime": {
     "end_time": "2024-09-10T01:15:46.255759Z",
     "start_time": "2024-09-10T01:15:46.249932Z"
    }
   },
   "outputs": [],
   "source": [
    "print(count_series)\n"
   ]
  },
  {
   "cell_type": "code",
   "execution_count": null,
   "id": "fe2c3818b0782563",
   "metadata": {
    "ExecuteTime": {
     "end_time": "2024-09-10T01:13:26.954925Z",
     "start_time": "2024-09-10T01:13:26.948562Z"
    }
   },
   "outputs": [],
   "source": [
    "df_b"
   ]
  },
  {
   "cell_type": "code",
   "execution_count": null,
   "id": "b45e06550df0bb7e",
   "metadata": {},
   "outputs": [],
   "source": []
  }
 ],
 "metadata": {
  "kernelspec": {
   "display_name": "oxigraph",
   "language": "python",
   "name": "oxigraph"
  },
  "language_info": {
   "codemirror_mode": {
    "name": "ipython",
    "version": 3
   },
   "file_extension": ".py",
   "mimetype": "text/x-python",
   "name": "python",
   "nbconvert_exporter": "python",
   "pygments_lexer": "ipython3",
   "version": "3.11.13"
  }
 },
 "nbformat": 4,
 "nbformat_minor": 5
}
