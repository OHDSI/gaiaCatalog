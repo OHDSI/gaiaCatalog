{
 "cells": [
  {
   "cell_type": "markdown",
   "id": "6340415b5198e5f8",
   "metadata": {},
   "source": "# Graph exploring"
  },
  {
   "cell_type": "code",
   "id": "initial_id",
   "metadata": {
    "execution": {
     "iopub.execute_input": "2024-09-07T03:32:20.165386Z",
     "iopub.status.busy": "2024-09-07T03:32:20.165245Z",
     "iopub.status.idle": "2024-09-07T03:32:20.730105Z",
     "shell.execute_reply": "2024-09-07T03:32:20.729690Z",
     "shell.execute_reply.started": "2024-09-07T03:32:20.165369Z"
    },
    "ExecuteTime": {
     "end_time": "2025-10-07T19:19:10.485106Z",
     "start_time": "2025-10-07T19:19:07.945620Z"
    }
   },
   "source": [
    "import warnings\n",
    "warnings.simplefilter(action='ignore', category=FutureWarning)  ## remove pandas future warning\n",
    "from pyld import jsonld\n",
    "import json\n",
    "import pandas as pd\n",
    "import io\n",
    "import tempfile\n",
    "import os\n",
    "import pyoxigraph\n",
    "import requests\n",
    "import advertools as adv\n",
    "import logging \n",
    "from scrapy.utils.log import configure_logging\n",
    "\n",
    "from pygraphml import GraphMLParser\n",
    "from pygraphml import Graph as GraphML \n",
    "import networkx as nx\n",
    "from ipysigma import Sigma\n",
    "from SPARQLWrapper import SPARQLWrapper, JSON\n",
    "from hashlib import sha256\n",
    "from io import StringIO\n",
    "\n",
    "import datasets\n",
    "import pandas as pd\n",
    "from datasets import load_dataset\n",
    "import torch\n",
    "# from relik import Relik\n",
    "# from relik.inference.data.objects import RelikOutput\n",
    "from tqdm import tqdm\n",
    "\n",
    "import logging\n",
    "logging.basicConfig(level=logging.INFO)\n",
    "# logging.getLogger('relik').setLevel(logging.INFO)"
   ],
   "outputs": [],
   "execution_count": 1
  },
  {
   "cell_type": "code",
   "id": "3988b352",
   "metadata": {
    "execution": {
     "iopub.execute_input": "2024-09-07T03:32:23.367446Z",
     "iopub.status.busy": "2024-09-07T03:32:23.367205Z",
     "iopub.status.idle": "2024-09-07T03:32:23.370335Z",
     "shell.execute_reply": "2024-09-07T03:32:23.370084Z",
     "shell.execute_reply.started": "2024-09-07T03:32:23.367436Z"
    },
    "ExecuteTime": {
     "end_time": "2025-10-07T19:19:10.571517Z",
     "start_time": "2025-10-07T19:19:10.559590Z"
    }
   },
   "source": [
    "logging.getLogger(\"urllib3\").setLevel(logging.ERROR)\n",
    "logging.getLogger(\"requests\").setLevel(logging.ERROR)\n",
    "configure_logging(install_root_handler=False)\n",
    "logging.getLogger(\"scrapy\").setLevel(logging.ERROR)"
   ],
   "outputs": [],
   "execution_count": 2
  },
  {
   "cell_type": "code",
   "id": "6a38ee9c80306492",
   "metadata": {
    "execution": {
     "iopub.execute_input": "2024-09-07T03:32:27.039002Z",
     "iopub.status.busy": "2024-09-07T03:32:27.038859Z",
     "iopub.status.idle": "2024-09-07T03:32:27.076783Z",
     "shell.execute_reply": "2024-09-07T03:32:27.076499Z",
     "shell.execute_reply.started": "2024-09-07T03:32:27.038991Z"
    },
    "ExecuteTime": {
     "end_time": "2025-10-07T19:19:10.607377Z",
     "start_time": "2025-10-07T19:19:10.580259Z"
    }
   },
   "source": [
    "store = pyoxigraph.Store()  #  memory store  \n",
    "# store = pyoxigraph.Store(path=\"./store\")  # disk based store\n",
    "mime_type = \"application/n-quads\"   # application/n-triples or application/n-quads if you are loading those"
   ],
   "outputs": [],
   "execution_count": 3
  },
  {
   "cell_type": "code",
   "id": "e709121a",
   "metadata": {
    "execution": {
     "iopub.execute_input": "2024-09-07T03:32:27.595484Z",
     "iopub.status.busy": "2024-09-07T03:32:27.595352Z",
     "iopub.status.idle": "2024-09-07T03:32:27.597295Z",
     "shell.execute_reply": "2024-09-07T03:32:27.597038Z",
     "shell.execute_reply.started": "2024-09-07T03:32:27.595475Z"
    },
    "ExecuteTime": {
     "end_time": "2025-10-07T19:19:10.635599Z",
     "start_time": "2025-10-07T19:19:10.632769Z"
    }
   },
   "source": "store.clear()",
   "outputs": [],
   "execution_count": 4
  },
  {
   "metadata": {
    "ExecuteTime": {
     "end_time": "2025-10-07T19:19:10.688982Z",
     "start_time": "2025-10-07T19:19:10.685351Z"
    }
   },
   "cell_type": "code",
   "source": [
    "\n",
    "sourcesOLD = [\n",
    "    \"../datastore/data/global_pm25_concentration_1998_2016/meta_json-ld_global_pm25_concentration_1998_2016.json\",\n",
    "    # \"../datastore/data/ma_2018_svi_tract/meta_json-ld_ma_2018_svi_tract.json\",\n",
    "    # \"../datastore/data/tz_1984_copernicus_avg_temp/meta_json-ld_tz_1984_copernicus_avg_temp.json\",\n",
    "    # \"../datastore/data/us_2018_svi_county/meta_json-ld_us_2018_svi_county.json\",\n",
    "    # \"../datastore/data/tz_2022_nbs/tz_2022_nbs_districts/meta_json-ld_tz_2022_nbs_districts.json\",\n",
    "    # \"../datastore/data/tz_2022_nbs_magu_district/meta_json-ld_tz_2022_nbs_magu_district.json\",\n",
    "    # \"../datastore/data/tz_magu_dem_srtm/meta_json-ld_tz_magu_dem_srtm.json\",\n",
    "    # \"../datastore/data/tz_populated_places_osm/meta_json-ld_tz_populated_places_osm.json\",\n",
    "    # \"../datastore/data/tz_regions_osm/meta_json-ld_tz_regions_osm.json\"\n",
    "]"
   ],
   "id": "405d6910417e1136",
   "outputs": [],
   "execution_count": 5
  },
  {
   "metadata": {
    "ExecuteTime": {
     "end_time": "2025-10-07T19:19:10.741986Z",
     "start_time": "2025-10-07T19:19:10.738491Z"
    }
   },
   "cell_type": "code",
   "source": [
    "# NOT USED\n",
    "def custom_document_loader(url, options):\n",
    "    \"\"\"Custom document loader that returns empty context for invalid URLs\"\"\"\n",
    "    if url == '@context':\n",
    "        # Return an empty context document\n",
    "        return {\n",
    "            'contextUrl': None,\n",
    "            'documentUrl': url,\n",
    "            'document': {}\n",
    "        }\n",
    "    # For other URLs, you might want to handle them differently\n",
    "    # or let the default loader handle them\n",
    "    raise jsonld.JsonLdError(\n",
    "        f'URL could not be loaded: {url}',\n",
    "        'jsonld.LoadDocumentError',\n",
    "        {'url': url}\n",
    "    )"
   ],
   "id": "1635608d35332d39",
   "outputs": [],
   "execution_count": 6
  },
  {
   "metadata": {
    "ExecuteTime": {
     "end_time": "2025-10-07T19:19:10.813261Z",
     "start_time": "2025-10-07T19:19:10.810458Z"
    }
   },
   "cell_type": "code",
   "source": [
    "sources = [\n",
    "    \"./data/meta_json-ld_global_pm25_concentration_1998_2016.nq\",\n",
    "    \"./data/meta_json-ld_ma_2018_svi_tract.nq\",\n",
    "    \"./data/meta_json-ld_tz_1984_copernicus_avg_temp.nq\",\n",
    "    \"./data/meta_json-ld_tz_2022_nbs_districts.nq\",\n",
    "    \"./data/meta_json-ld_tz_2022_nbs_magu_district.nq\",\n",
    "    # \"./data/meta_json-ld_tz_magu_dem_srtm.nq\",\n",
    "    \"./data/meta_json-ld_tz_populated_places_osm.nq\",\n",
    "    \"./data/meta_json-ld_tz_regions_osm.nq\",\n",
    "    \"./data/meta_json-ld_us_2018_svi_county.nq\"\n",
    "]\n",
    "\n"
   ],
   "id": "66fb33bae3cefc8f",
   "outputs": [],
   "execution_count": 7
  },
  {
   "cell_type": "code",
   "id": "19db8325",
   "metadata": {
    "execution": {
     "iopub.execute_input": "2024-09-07T03:32:58.481587Z",
     "iopub.status.busy": "2024-09-07T03:32:58.481309Z",
     "iopub.status.idle": "2024-09-07T03:32:59.972007Z",
     "shell.execute_reply": "2024-09-07T03:32:59.971584Z",
     "shell.execute_reply.started": "2024-09-07T03:32:58.481575Z"
    },
    "ExecuteTime": {
     "end_time": "2025-10-07T19:19:10.885001Z",
     "start_time": "2025-10-07T19:19:10.869235Z"
    }
   },
   "source": [
    "# Read a JSON file and parse it\n",
    "for s in sources:\n",
    "    with open(s) as nq_file:\n",
    "      store.load(nq_file, pyoxigraph.RdfFormat.N_QUADS, base_iri=None, to_graph=None)\n",
    "\n",
    "\n",
    "# #Read a JSON file and parse it\n",
    "# for s in sources:\n",
    "#     doc_array = None\n",
    "#     with open(s) as json_file:\n",
    "#       doc_array = json.load(json_file)\n",
    "#\n",
    "#     for ind, x in enumerate(doc_array):\n",
    "#         doc = json.loads((json.dumps(x)))  # x is a dict so we need to typecast\n",
    "#         normalized = jsonld.normalize(doc, {'algorithm': 'URDNA2015', 'format': 'application/n-quads'})\n",
    "#         ns = io.StringIO(normalized)\n",
    "#         store.load(ns, mime_type, base_iri=None, to_graph=None)"
   ],
   "outputs": [],
   "execution_count": 8
  },
  {
   "cell_type": "code",
   "id": "d770f0573983bb76",
   "metadata": {
    "execution": {
     "iopub.execute_input": "2024-09-07T03:35:00.928075Z",
     "iopub.status.busy": "2024-09-07T03:35:00.927942Z",
     "iopub.status.idle": "2024-09-07T03:35:00.941211Z",
     "shell.execute_reply": "2024-09-07T03:35:00.940747Z",
     "shell.execute_reply.started": "2024-09-07T03:35:00.928065Z"
    },
    "ExecuteTime": {
     "end_time": "2025-10-07T19:19:10.924613Z",
     "start_time": "2025-10-07T19:19:10.921432Z"
    }
   },
   "source": [
    "## NOTE   schema:contentURL changed!!!\n",
    "\n",
    "qtest = \"\"\"\tPREFIX schema: <https://schema.org/>\n",
    "SELECT ?s ?o \n",
    "WHERE {\n",
    "      ?s schema:description ?o .\n",
    " }\n",
    "\"\"\"\n",
    "\n",
    "q1 = list(store.query(qtest))"
   ],
   "outputs": [],
   "execution_count": 9
  },
  {
   "cell_type": "code",
   "id": "9374ff5cd50c63af",
   "metadata": {
    "execution": {
     "iopub.execute_input": "2024-09-07T03:35:01.348616Z",
     "iopub.status.busy": "2024-09-07T03:35:01.348449Z",
     "iopub.status.idle": "2024-09-07T03:35:01.352285Z",
     "shell.execute_reply": "2024-09-07T03:35:01.351982Z",
     "shell.execute_reply.started": "2024-09-07T03:35:01.348606Z"
    },
    "ExecuteTime": {
     "end_time": "2025-10-07T19:19:10.977768Z",
     "start_time": "2025-10-07T19:19:10.973292Z"
    }
   },
   "source": "df1 = pd.DataFrame(q1, columns=[\"subject\",  \"object\" ])",
   "outputs": [],
   "execution_count": 10
  },
  {
   "cell_type": "code",
   "id": "5c1952866472c429",
   "metadata": {
    "execution": {
     "iopub.execute_input": "2024-09-07T03:35:01.848763Z",
     "iopub.status.busy": "2024-09-07T03:35:01.848567Z",
     "iopub.status.idle": "2024-09-07T03:35:01.853121Z",
     "shell.execute_reply": "2024-09-07T03:35:01.852690Z",
     "shell.execute_reply.started": "2024-09-07T03:35:01.848752Z"
    },
    "ExecuteTime": {
     "end_time": "2025-10-07T19:19:11.084565Z",
     "start_time": "2025-10-07T19:19:11.061675Z"
    }
   },
   "source": [
    "df1"
   ],
   "outputs": [
    {
     "data": {
      "text/plain": [
       "                                               subject  \\\n",
       "0                   _:ef1e28f3654c9c8a18360150fb5d3478   \n",
       "1                   _:c7c767dfd48998f443e5cd4a389939df   \n",
       "2                   _:daa787885aab2a3d7a23a787c47321eb   \n",
       "3                   _:e79fc804e104514bd15824867847dfb0   \n",
       "4                    _:c869048048c13277cc4ef682f4801db   \n",
       "..                                                 ...   \n",
       "346                 _:c9be4046c20752d80bbbafac781a2ae8   \n",
       "347                 _:c459fedb208ba044b9d00ff15d6dcc45   \n",
       "348                 _:e0dac577a012070fc3b8fc2f4e6ad12f   \n",
       "349                 _:d46ada41cce52c10ece4e5b73adab05f   \n",
       "350  <https://gdsc.idsc.miami.edu/detail/global_pm2...   \n",
       "\n",
       "                                                object  \n",
       "0    \"\\\"Persons in group quarters estimate MOE, 201...  \n",
       "1    \"\\\"Civilian non-institutionalized population w...  \n",
       "2    \"\\\"At household level (occupied housing units)...  \n",
       "3    \"\\\"Persons aged 65 and older estimate MOE, 201...  \n",
       "4    \"\\\"Persons aged 17 and younger estimate MOE, 2...  \n",
       "..                                                 ...  \n",
       "346                             \"GIS Vector Geometery\"  \n",
       "347            \"GIS Data Structure for Representation\"  \n",
       "348  \"#########\\n# GDSC ETL is performed in two ste...  \n",
       "349                               \"Direct from source\"  \n",
       "350  \"The Annual PM2.5 Concentrations for Countries...  \n",
       "\n",
       "[351 rows x 2 columns]"
      ],
      "text/html": [
       "<div>\n",
       "<style scoped>\n",
       "    .dataframe tbody tr th:only-of-type {\n",
       "        vertical-align: middle;\n",
       "    }\n",
       "\n",
       "    .dataframe tbody tr th {\n",
       "        vertical-align: top;\n",
       "    }\n",
       "\n",
       "    .dataframe thead th {\n",
       "        text-align: right;\n",
       "    }\n",
       "</style>\n",
       "<table border=\"1\" class=\"dataframe\">\n",
       "  <thead>\n",
       "    <tr style=\"text-align: right;\">\n",
       "      <th></th>\n",
       "      <th>subject</th>\n",
       "      <th>object</th>\n",
       "    </tr>\n",
       "  </thead>\n",
       "  <tbody>\n",
       "    <tr>\n",
       "      <th>0</th>\n",
       "      <td>_:ef1e28f3654c9c8a18360150fb5d3478</td>\n",
       "      <td>\"\\\"Persons in group quarters estimate MOE, 201...</td>\n",
       "    </tr>\n",
       "    <tr>\n",
       "      <th>1</th>\n",
       "      <td>_:c7c767dfd48998f443e5cd4a389939df</td>\n",
       "      <td>\"\\\"Civilian non-institutionalized population w...</td>\n",
       "    </tr>\n",
       "    <tr>\n",
       "      <th>2</th>\n",
       "      <td>_:daa787885aab2a3d7a23a787c47321eb</td>\n",
       "      <td>\"\\\"At household level (occupied housing units)...</td>\n",
       "    </tr>\n",
       "    <tr>\n",
       "      <th>3</th>\n",
       "      <td>_:e79fc804e104514bd15824867847dfb0</td>\n",
       "      <td>\"\\\"Persons aged 65 and older estimate MOE, 201...</td>\n",
       "    </tr>\n",
       "    <tr>\n",
       "      <th>4</th>\n",
       "      <td>_:c869048048c13277cc4ef682f4801db</td>\n",
       "      <td>\"\\\"Persons aged 17 and younger estimate MOE, 2...</td>\n",
       "    </tr>\n",
       "    <tr>\n",
       "      <th>...</th>\n",
       "      <td>...</td>\n",
       "      <td>...</td>\n",
       "    </tr>\n",
       "    <tr>\n",
       "      <th>346</th>\n",
       "      <td>_:c9be4046c20752d80bbbafac781a2ae8</td>\n",
       "      <td>\"GIS Vector Geometery\"</td>\n",
       "    </tr>\n",
       "    <tr>\n",
       "      <th>347</th>\n",
       "      <td>_:c459fedb208ba044b9d00ff15d6dcc45</td>\n",
       "      <td>\"GIS Data Structure for Representation\"</td>\n",
       "    </tr>\n",
       "    <tr>\n",
       "      <th>348</th>\n",
       "      <td>_:e0dac577a012070fc3b8fc2f4e6ad12f</td>\n",
       "      <td>\"#########\\n# GDSC ETL is performed in two ste...</td>\n",
       "    </tr>\n",
       "    <tr>\n",
       "      <th>349</th>\n",
       "      <td>_:d46ada41cce52c10ece4e5b73adab05f</td>\n",
       "      <td>\"Direct from source\"</td>\n",
       "    </tr>\n",
       "    <tr>\n",
       "      <th>350</th>\n",
       "      <td>&lt;https://gdsc.idsc.miami.edu/detail/global_pm2...</td>\n",
       "      <td>\"The Annual PM2.5 Concentrations for Countries...</td>\n",
       "    </tr>\n",
       "  </tbody>\n",
       "</table>\n",
       "<p>351 rows × 2 columns</p>\n",
       "</div>"
      ]
     },
     "execution_count": 11,
     "metadata": {},
     "output_type": "execute_result"
    }
   ],
   "execution_count": 11
  },
  {
   "metadata": {
    "ExecuteTime": {
     "end_time": "2025-10-07T19:19:11.227478Z",
     "start_time": "2025-10-07T19:19:11.222897Z"
    }
   },
   "cell_type": "code",
   "source": [
    "term_counts = df1['object'].value_counts().reset_index()\n",
    "\n",
    "# Rename the columns for clarity\n",
    "term_counts.columns = ['object', 'count']"
   ],
   "id": "205b0f827a5657d1",
   "outputs": [],
   "execution_count": 12
  },
  {
   "metadata": {
    "ExecuteTime": {
     "end_time": "2025-10-07T20:57:04.319483Z",
     "start_time": "2025-10-07T20:57:04.313219Z"
    }
   },
   "cell_type": "code",
   "source": "term_counts.head(30)",
   "id": "ef551a47bceb4a63",
   "outputs": [
    {
     "data": {
      "text/plain": [
       "                                               object  count\n",
       "0             \"GIS Data Structure for Representation\"      8\n",
       "1                              \"GIS Vector Geometery\"      7\n",
       "2                                \"Direct from source\"      6\n",
       "3     \"\\\"Per capita income estimate, 2014-2018 ACS\\\"\"      4\n",
       "4   \"Social vulnerability refers to the potential ...      4\n",
       "5                               \" direct from source\"      4\n",
       "6   \"\\\"Per capita income estimate MOE, 2014-2018 A...      4\n",
       "7                               \"Direct from source.\"      4\n",
       "8   \"A raster dataset with yearly averages of the ...      3\n",
       "9   \"\\\"Persons aged 17 and younger estimate MOE, 2...      2\n",
       "10                                \"Census tract name\"      2\n",
       "11  \"\\\"Civilian non-institutionalized population w...      2\n",
       "12  \"\\\"At household level (occupied housing units)...      2\n",
       "13      \"Sum of flags for Socioeconomic Status theme\"      2\n",
       "14  \"\\\"Flag - the percentage of single parent hous...      2\n",
       "15  \"\\\"Flag - the percentage of persons in poverty...      2\n",
       "16  \"\\\"Flag - per capita income is in the 90th per...      2\n",
       "17  \"\\\"Flag - the percentage of households with no...      2\n",
       "18  \"\\\"Flag - the percentage of persons with no hi...      2\n",
       "19  \"\\\"Flag - the percentage of households in mult...      2\n",
       "20  \"\\\"Flag - the percentage of mobile homes is in...      2\n",
       "21  \"\\\"Flag - the percentage of minority is in the...      2\n",
       "22  \"\\\"Flag - the percentage those with limited En...      2\n",
       "23  \"\\\"Flag - the percentage of civilian unemploye...      2\n",
       "24     \"FIPS code as STATE(2)COUNTY(3)CENSUSTRACT(6)\"      2\n",
       "25                 \"Sum of flags for the four themes\"      2\n",
       "26  \"Sum of flags for Housing Type/ Transportation...      2\n",
       "27  \"\\\"Persons aged 65 and older estimate MOE, 201...      2\n",
       "28  \"\\\"Persons in group quarters estimate MOE, 201...      2\n",
       "29  \"Percentile Percentage of civilian (age 16+) u...      2"
      ],
      "text/html": [
       "<div>\n",
       "<style scoped>\n",
       "    .dataframe tbody tr th:only-of-type {\n",
       "        vertical-align: middle;\n",
       "    }\n",
       "\n",
       "    .dataframe tbody tr th {\n",
       "        vertical-align: top;\n",
       "    }\n",
       "\n",
       "    .dataframe thead th {\n",
       "        text-align: right;\n",
       "    }\n",
       "</style>\n",
       "<table border=\"1\" class=\"dataframe\">\n",
       "  <thead>\n",
       "    <tr style=\"text-align: right;\">\n",
       "      <th></th>\n",
       "      <th>object</th>\n",
       "      <th>count</th>\n",
       "    </tr>\n",
       "  </thead>\n",
       "  <tbody>\n",
       "    <tr>\n",
       "      <th>0</th>\n",
       "      <td>\"GIS Data Structure for Representation\"</td>\n",
       "      <td>8</td>\n",
       "    </tr>\n",
       "    <tr>\n",
       "      <th>1</th>\n",
       "      <td>\"GIS Vector Geometery\"</td>\n",
       "      <td>7</td>\n",
       "    </tr>\n",
       "    <tr>\n",
       "      <th>2</th>\n",
       "      <td>\"Direct from source\"</td>\n",
       "      <td>6</td>\n",
       "    </tr>\n",
       "    <tr>\n",
       "      <th>3</th>\n",
       "      <td>\"\\\"Per capita income estimate, 2014-2018 ACS\\\"\"</td>\n",
       "      <td>4</td>\n",
       "    </tr>\n",
       "    <tr>\n",
       "      <th>4</th>\n",
       "      <td>\"Social vulnerability refers to the potential ...</td>\n",
       "      <td>4</td>\n",
       "    </tr>\n",
       "    <tr>\n",
       "      <th>5</th>\n",
       "      <td>\" direct from source\"</td>\n",
       "      <td>4</td>\n",
       "    </tr>\n",
       "    <tr>\n",
       "      <th>6</th>\n",
       "      <td>\"\\\"Per capita income estimate MOE, 2014-2018 A...</td>\n",
       "      <td>4</td>\n",
       "    </tr>\n",
       "    <tr>\n",
       "      <th>7</th>\n",
       "      <td>\"Direct from source.\"</td>\n",
       "      <td>4</td>\n",
       "    </tr>\n",
       "    <tr>\n",
       "      <th>8</th>\n",
       "      <td>\"A raster dataset with yearly averages of the ...</td>\n",
       "      <td>3</td>\n",
       "    </tr>\n",
       "    <tr>\n",
       "      <th>9</th>\n",
       "      <td>\"\\\"Persons aged 17 and younger estimate MOE, 2...</td>\n",
       "      <td>2</td>\n",
       "    </tr>\n",
       "    <tr>\n",
       "      <th>10</th>\n",
       "      <td>\"Census tract name\"</td>\n",
       "      <td>2</td>\n",
       "    </tr>\n",
       "    <tr>\n",
       "      <th>11</th>\n",
       "      <td>\"\\\"Civilian non-institutionalized population w...</td>\n",
       "      <td>2</td>\n",
       "    </tr>\n",
       "    <tr>\n",
       "      <th>12</th>\n",
       "      <td>\"\\\"At household level (occupied housing units)...</td>\n",
       "      <td>2</td>\n",
       "    </tr>\n",
       "    <tr>\n",
       "      <th>13</th>\n",
       "      <td>\"Sum of flags for Socioeconomic Status theme\"</td>\n",
       "      <td>2</td>\n",
       "    </tr>\n",
       "    <tr>\n",
       "      <th>14</th>\n",
       "      <td>\"\\\"Flag - the percentage of single parent hous...</td>\n",
       "      <td>2</td>\n",
       "    </tr>\n",
       "    <tr>\n",
       "      <th>15</th>\n",
       "      <td>\"\\\"Flag - the percentage of persons in poverty...</td>\n",
       "      <td>2</td>\n",
       "    </tr>\n",
       "    <tr>\n",
       "      <th>16</th>\n",
       "      <td>\"\\\"Flag - per capita income is in the 90th per...</td>\n",
       "      <td>2</td>\n",
       "    </tr>\n",
       "    <tr>\n",
       "      <th>17</th>\n",
       "      <td>\"\\\"Flag - the percentage of households with no...</td>\n",
       "      <td>2</td>\n",
       "    </tr>\n",
       "    <tr>\n",
       "      <th>18</th>\n",
       "      <td>\"\\\"Flag - the percentage of persons with no hi...</td>\n",
       "      <td>2</td>\n",
       "    </tr>\n",
       "    <tr>\n",
       "      <th>19</th>\n",
       "      <td>\"\\\"Flag - the percentage of households in mult...</td>\n",
       "      <td>2</td>\n",
       "    </tr>\n",
       "    <tr>\n",
       "      <th>20</th>\n",
       "      <td>\"\\\"Flag - the percentage of mobile homes is in...</td>\n",
       "      <td>2</td>\n",
       "    </tr>\n",
       "    <tr>\n",
       "      <th>21</th>\n",
       "      <td>\"\\\"Flag - the percentage of minority is in the...</td>\n",
       "      <td>2</td>\n",
       "    </tr>\n",
       "    <tr>\n",
       "      <th>22</th>\n",
       "      <td>\"\\\"Flag - the percentage those with limited En...</td>\n",
       "      <td>2</td>\n",
       "    </tr>\n",
       "    <tr>\n",
       "      <th>23</th>\n",
       "      <td>\"\\\"Flag - the percentage of civilian unemploye...</td>\n",
       "      <td>2</td>\n",
       "    </tr>\n",
       "    <tr>\n",
       "      <th>24</th>\n",
       "      <td>\"FIPS code as STATE(2)COUNTY(3)CENSUSTRACT(6)\"</td>\n",
       "      <td>2</td>\n",
       "    </tr>\n",
       "    <tr>\n",
       "      <th>25</th>\n",
       "      <td>\"Sum of flags for the four themes\"</td>\n",
       "      <td>2</td>\n",
       "    </tr>\n",
       "    <tr>\n",
       "      <th>26</th>\n",
       "      <td>\"Sum of flags for Housing Type/ Transportation...</td>\n",
       "      <td>2</td>\n",
       "    </tr>\n",
       "    <tr>\n",
       "      <th>27</th>\n",
       "      <td>\"\\\"Persons aged 65 and older estimate MOE, 201...</td>\n",
       "      <td>2</td>\n",
       "    </tr>\n",
       "    <tr>\n",
       "      <th>28</th>\n",
       "      <td>\"\\\"Persons in group quarters estimate MOE, 201...</td>\n",
       "      <td>2</td>\n",
       "    </tr>\n",
       "    <tr>\n",
       "      <th>29</th>\n",
       "      <td>\"Percentile Percentage of civilian (age 16+) u...</td>\n",
       "      <td>2</td>\n",
       "    </tr>\n",
       "  </tbody>\n",
       "</table>\n",
       "</div>"
      ]
     },
     "execution_count": 20,
     "metadata": {},
     "output_type": "execute_result"
    }
   ],
   "execution_count": 20
  },
  {
   "cell_type": "markdown",
   "id": "ac4c503033247182",
   "metadata": {},
   "source": [
    "## Visualization section"
   ]
  },
  {
   "cell_type": "code",
   "id": "1cfc7f0128182168",
   "metadata": {
    "execution": {
     "iopub.execute_input": "2024-09-07T03:38:49.920119Z",
     "iopub.status.busy": "2024-09-07T03:38:49.919957Z",
     "iopub.status.idle": "2024-09-07T03:38:49.961123Z",
     "shell.execute_reply": "2024-09-07T03:38:49.960766Z",
     "shell.execute_reply.started": "2024-09-07T03:38:49.920109Z"
    },
    "ExecuteTime": {
     "end_time": "2025-10-07T20:57:11.782102Z",
     "start_time": "2025-10-07T20:57:11.776060Z"
    }
   },
   "source": [
    "#  a == rdf:type  == <http://www.w3.org/1999/02/22-rdf-syntax-ns#type>\n",
    "\n",
    "qtypetype = \"\"\"\tPREFIX rdf: <http://www.w3.org/1999/02/22-rdf-syntax-ns#>\n",
    "PREFIX rdfs: <http://www.w3.org/2000/01/rdf-schema#>\n",
    "PREFIX xsd: <http://www.w3.org/2001/XMLSchema#>\n",
    "PREFIX schema: <https://schema.org/>\n",
    "\n",
    "SELECT DISTINCT ?source ?connectedBy ?target ?sType ?tType\n",
    "WHERE {\n",
    "    ?source a ?sType .\n",
    "    ?target a ?tType .\n",
    "    ?source ?connectedBy ?target .\n",
    "}\n",
    "\"\"\"\n",
    "\n",
    "# qtypetype = \"\"\"\tPREFIX rdf: <http://www.w3.org/1999/02/22-rdf-syntax-ns#>\n",
    "# PREFIX rdfs: <http://www.w3.org/2000/01/rdf-schema#>\n",
    "# PREFIX xsd: <http://www.w3.org/2001/XMLSchema#>\n",
    "# PREFIX schema: <https://schema.org/>\n",
    "#\n",
    "# SELECT DISTINCT ?source ?sType ?kw\n",
    "# WHERE {\n",
    "#     ?source a ?sType .\n",
    "#     ?source schema:keywords ?kw .\n",
    "# }\n",
    "# \"\"\"\n",
    "\n",
    "q2 = list(store.query(qtypetype))"
   ],
   "outputs": [],
   "execution_count": 21
  },
  {
   "cell_type": "code",
   "id": "3a722f9224a500f",
   "metadata": {
    "execution": {
     "iopub.execute_input": "2024-09-07T03:39:16.091921Z",
     "iopub.status.busy": "2024-09-07T03:39:16.091767Z",
     "iopub.status.idle": "2024-09-07T03:39:16.094456Z",
     "shell.execute_reply": "2024-09-07T03:39:16.094132Z",
     "shell.execute_reply.started": "2024-09-07T03:39:16.091911Z"
    },
    "ExecuteTime": {
     "end_time": "2025-10-07T20:58:04.144699Z",
     "start_time": "2025-10-07T20:58:04.141270Z"
    }
   },
   "source": [
    "# df2 = pd.DataFrame(q2, columns=[\"source\", \"sType\", \"keyword\"])\n",
    "df2 = pd.DataFrame(q2, columns=[\"source\", \"connecteBy\", \"target\", \"sType\", \"tType\"])\n"
   ],
   "outputs": [],
   "execution_count": 23
  },
  {
   "metadata": {
    "ExecuteTime": {
     "end_time": "2025-10-07T20:58:09.642027Z",
     "start_time": "2025-10-07T20:58:09.637797Z"
    }
   },
   "cell_type": "code",
   "source": "df2 = df2.astype(str) # convert oxigraph types to string",
   "id": "acea71474c2d3da8",
   "outputs": [],
   "execution_count": 24
  },
  {
   "cell_type": "code",
   "id": "910c8479-cf85-41b6-b8d3-f91c901cfa8f",
   "metadata": {
    "ExecuteTime": {
     "end_time": "2025-10-07T20:59:01.679803Z",
     "start_time": "2025-10-07T20:59:01.639904Z"
    }
   },
   "source": [
    "gml = GraphML()\n",
    "gml.directed = False\n",
    "\n",
    "for index, row in df2.iterrows():\n",
    "    n1 = gml.add_node(row['source'])\n",
    "    n1['type'] = row['sType']\n",
    "    \n",
    "    n2 = gml.add_node(row['target'])\n",
    "    n2['type'] = \"tType\"\n",
    " \n",
    "    e1 = gml.add_edge(n1, n2)\n",
    "\n",
    "# Create a temporary file\n",
    "with tempfile.NamedTemporaryFile(delete=False, mode='w') as temp_file:\n",
    "    temp_filename = temp_file.name\n",
    "    # Write the GraphML content to the temporary file\n",
    "    parser = GraphMLParser()\n",
    "    parser.write(gml, temp_filename)\n",
    "    \n",
    "g = nx.read_graphml(temp_filename)\n",
    "\n",
    "os.remove(temp_filename)\n"
   ],
   "outputs": [],
   "execution_count": 25
  },
  {
   "metadata": {
    "ExecuteTime": {
     "end_time": "2025-10-07T21:10:51.856279Z",
     "start_time": "2025-10-07T21:10:51.838503Z"
    }
   },
   "cell_type": "code",
   "source": [
    "# optional write the GML out\n",
    "# fname = \"./rdfGraphs2.graphml\"\n",
    "# parser = GraphMLParser()\n",
    "# parser.write(gml, fname)\n"
   ],
   "id": "167172ed320daebd",
   "outputs": [],
   "execution_count": 30
  },
  {
   "metadata": {
    "ExecuteTime": {
     "end_time": "2025-10-07T21:00:03.768795Z",
     "start_time": "2025-10-07T21:00:03.756395Z"
    }
   },
   "cell_type": "code",
   "source": [
    "Sigma(\n",
    "    g,\n",
    "    node_size=g.degree,\n",
    "    default_edge_type='curve',\n",
    "    node_border_color_from='node',\n",
    "    node_metrics=['louvain'],\n",
    "    node_color='louvain',\n",
    "    start_layout=5,\n",
    "    edge_size=lambda u, v: g.degree(u) + g.degree(v),\n",
    "    edge_size_range=(0.5, 5),\n",
    "    label_font='cursive',\n",
    "    node_label_size=g.degree,\n",
    "    label_density=0\n",
    ")\n"
   ],
   "id": "b978fc2cf506d0a5",
   "outputs": [
    {
     "data": {
      "text/plain": [
       "Sigma(nx.Graph with 469 nodes and 469 edges)"
      ],
      "application/vnd.jupyter.widget-view+json": {
       "version_major": 2,
       "version_minor": 0,
       "model_id": "0ebaa7f0811b4c22a6bc3075a856641c"
      }
     },
     "execution_count": 28,
     "metadata": {},
     "output_type": "execute_result"
    }
   ],
   "execution_count": 28
  },
  {
   "metadata": {},
   "cell_type": "markdown",
   "source": "## test relik against the descriptions",
   "id": "29a3bf661af20b89"
  },
  {
   "metadata": {
    "ExecuteTime": {
     "end_time": "2024-09-09T21:00:23.462129Z",
     "start_time": "2024-09-09T21:00:23.459718Z"
    }
   },
   "cell_type": "code",
   "source": [
    "def clean_memory():\n",
    "    # clean up a bit\n",
    "    import gc\n",
    "\n",
    "    relik = None\n",
    "    gc.collect()\n",
    "    torch.cuda.empty_cache()"
   ],
   "id": "768d70c3479dc704",
   "outputs": [],
   "execution_count": 18
  },
  {
   "metadata": {
    "ExecuteTime": {
     "end_time": "2024-09-09T21:00:23.775959Z",
     "start_time": "2024-09-09T21:00:23.773688Z"
    }
   },
   "cell_type": "code",
   "source": [
    "def my_function(row):\n",
    "  # Perform calculations or transformations on the row\n",
    "  relik_out: RelikOutput = relik(row['description'])\n",
    "  return relik_out"
   ],
   "id": "af60959d3873d71a",
   "outputs": [],
   "execution_count": 19
  },
  {
   "metadata": {
    "ExecuteTime": {
     "end_time": "2024-09-09T21:00:24.234819Z",
     "start_time": "2024-09-09T21:00:24.232834Z"
    }
   },
   "cell_type": "code",
   "source": "tqdm.pandas()",
   "id": "6f4d5848cf6638dc",
   "outputs": [],
   "execution_count": 20
  },
  {
   "metadata": {
    "ExecuteTime": {
     "end_time": "2024-09-09T21:00:24.931357Z",
     "start_time": "2024-09-09T21:00:24.792250Z"
    }
   },
   "cell_type": "code",
   "source": "clean_memory()",
   "id": "7d40e766f45393ac",
   "outputs": [],
   "execution_count": 21
  },
  {
   "metadata": {
    "ExecuteTime": {
     "end_time": "2024-09-09T21:01:03.390237Z",
     "start_time": "2024-09-09T21:00:25.786149Z"
    }
   },
   "cell_type": "code",
   "source": [
    "relik = Relik.from_pretrained(\n",
    "    \"sapienzanlp/relik-entity-linking-small\",\n",
    "    # device=\"cuda\" if torch.cuda.is_available() else \"cpu\",\n",
    "    # precision=\"fp16\" if torch.cuda.is_available() else \"fp32\",\n",
    "    device=\"cpu\", \n",
    "    precision=\"fp32\",  \n",
    "    skip_metadata=True,  # don't load index metadata to keep low memory requirements\n",
    "    verbose=False  # Add this line to suppress debug output\n",
    ")\n",
    "\n",
    "# \n",
    "# relik = Relik.from_pretrained(\n",
    "#     \"relik-ie/relik-relation-extraction-small\",\n",
    "#     device=\"cuda\" if torch.cuda.is_available() else \"cpu\",\n",
    "#     precision=\"fp16\" if torch.cuda.is_available() else \"fp32\",\n",
    "#     skip_metadata=True,  # don't load index metadata to keep low memory requirements\n",
    "# )\n"
   ],
   "id": "887a3ac7b4ec1680",
   "outputs": [
    {
     "name": "stdout",
     "output_type": "stream",
     "text": [
      "                ___              __         \n",
      "               /\\_ \\      __    /\\ \\        \n",
      " _ __     __   \\//\\ \\    /\\_\\   \\ \\ \\/'\\    \n",
      "/\\`'__\\ /'__`\\   \\ \\ \\   \\/\\ \\   \\ \\ , <    \n",
      "\\ \\ \\/ /\\  __/    \\_\\ \\_  \\ \\ \\   \\ \\ \\\\`\\  \n",
      " \\ \\_\\ \\ \\____\\   /\\____\\  \\ \\_\\   \\ \\_\\ \\_\\\n",
      "  \\/_/  \\/____/   \\/____/   \\/_/    \\/_/\\/_/\n",
      "                                            \n",
      "                                            \n",
      "\n",
      "[2024-09-09 16:00:26,059] [INFO] [relik.inference.annotator.from_pretrained:700] [PID:2164100] [RANK:0] Loading Relik from sapienzanlp/relik-entity-linking-small\u001B[39m\n",
      "[2024-09-09 16:00:26,061] [INFO] [relik.inference.annotator.from_pretrained:701] [PID:2164100] [RANK:0] {\n",
      "    '_target_': 'relik.inference.annotator.Relik',\n",
      "    'index': {\n",
      "        'span': {\n",
      "            '_target_': 'relik.retriever.indexers.inmemory.InMemoryDocumentIndex.from_pretrained',\n",
      "            'name_or_path': 'riccorl/retriever-relik-e5-small-entity-linking-aida-wikipedia-index',\n",
      "        },\n",
      "    },\n",
      "    'metadata_fields': [],\n",
      "    'reader': {\n",
      "        '_target_': 'relik.reader.pytorch_modules.span.RelikReaderForSpanExtraction',\n",
      "        'transformer_model': 'sapienzanlp/relik-reader-deberta-v3-base-aida',\n",
      "        'use_nme': True,\n",
      "    },\n",
      "    'retriever': {\n",
      "        'span': {\n",
      "            '_target_': 'relik.retriever.pytorch_modules.model.GoldenRetriever',\n",
      "            'question_encoder': 'riccorl/retriever-relik-e5-small-entity-linking-aida-wikipedia-question-encoder',\n",
      "        },\n",
      "    },\n",
      "    'task': 'SPAN',\n",
      "    'top_k': 100,\n",
      "    'window_size': 32,\n",
      "    'window_stride': 16,\n",
      "}\u001B[39m\n",
      "\u001B[33m[2024-09-09 16:00:26,908] [WARNING] [relik.common.utils.download_from_hf:342] [PID:2164100] [RANK:0] Couldn't download index.faiss from riccorl/retriever-relik-e5-small-entity-linking-aida-wikipedia-index, ignoring\u001B[39m\n",
      "[2024-09-09 16:00:26,910] [INFO] [relik.retriever.indexers.base.from_pretrained:482] [PID:2164100] [RANK:0] Loading Index from config:\u001B[39m\n",
      "[2024-09-09 16:00:26,911] [INFO] [relik.retriever.indexers.base.from_pretrained:483] [PID:2164100] [RANK:0] {\n",
      "    '_target_': 'relik.retriever.indexers.inmemory.InMemoryDocumentIndex',\n",
      "    'device': 'cpu',\n",
      "    'metadata_fields': ['definition'],\n",
      "    'name_or_path': None,\n",
      "    'precision': 'fp32',\n",
      "    'separator': ' <def> ',\n",
      "    'use_faiss': False,\n",
      "}\u001B[39m\n",
      "[2024-09-09 16:00:26,911] [INFO] [relik.retriever.indexers.base.from_pretrained:490] [PID:2164100] [RANK:0] Loading documents from /home/fils/.cache/huggingface/hub/models--riccorl--retriever-relik-e5-small-entity-linking-aida-wikipedia-index/snapshots/dde4b9a58077dfe9014ec5e484688e85f6fc5eea/documents.jsonl\u001B[39m\n",
      "[2024-09-09 16:00:50,975] [INFO] [relik.retriever.indexers.base.from_pretrained:533] [PID:2164100] [RANK:0] Loading embeddings from /home/fils/.cache/huggingface/hub/models--riccorl--retriever-relik-e5-small-entity-linking-aida-wikipedia-index/snapshots/dde4b9a58077dfe9014ec5e484688e85f6fc5eea/embeddings.pt\u001B[39m\n",
      "[2024-09-09 16:00:54,644] [INFO] [relik.retriever.indexers.inmemory.__init__:65] [PID:2164100] [RANK:0] Both documents and embeddings are provided.\u001B[39m\n",
      "[2024-09-09 16:00:54,645] [INFO] [relik.retriever.indexers.inmemory.__init__:90] [PID:2164100] [RANK:0] Index vectors are of type torch.float16. Converting to torch.float32.\u001B[39m\n"
     ]
    },
    {
     "name": "stderr",
     "output_type": "stream",
     "text": [
      "The argument `trust_remote_code` is to be used with Auto classes. It has no effect here and is ignored.\n"
     ]
    },
    {
     "name": "stdout",
     "output_type": "stream",
     "text": [
      "[2024-09-09 16:01:03,042] [INFO] [relik.inference.utils.load_reader:383] [PID:2164100] [RANK:0] Moving reader to `cpu`.\u001B[39m\n",
      "[2024-09-09 16:01:03,044] [INFO] [relik.inference.utils.load_reader:386] [PID:2164100] [RANK:0] Setting precision of reader to `torch.float32`.\u001B[39m\n",
      "[2024-09-09 16:01:03,053] [WARNING] [py.warnings._showwarnmsg:109] [PID:2164100] /home/fils/.conda/envs/dev/lib/python3.10/site-packages/spacy/util.py:910: UserWarning: [W095] Model 'en_core_web_sm' (3.6.0) was trained with spaCy v3.6.0 and may not be 100% compatible with the current version (3.7.6). If you see errors or degraded performance, download a newer compatible model or retrain your custom model with the current spaCy version. For more details and available updates, run: python -m spacy validate\n",
      "  warnings.warn(warn_msg)\n",
      "\n"
     ]
    }
   ],
   "execution_count": 22
  },
  {
   "metadata": {
    "ExecuteTime": {
     "end_time": "2024-09-09T21:01:11.500315Z",
     "start_time": "2024-09-09T21:01:11.488646Z"
    }
   },
   "cell_type": "code",
   "source": [
    "\n",
    "qdesc = \"\"\"\tPREFIX schema: <https://schema.org/>\n",
    "SELECT ?s ?o \n",
    "WHERE {\n",
    "      ?s schema:description ?o .\n",
    " }\n",
    "\"\"\"\n",
    "\n",
    "q3 = list(store.query(qdesc))"
   ],
   "id": "b57392d77d0c856",
   "outputs": [],
   "execution_count": 23
  },
  {
   "metadata": {
    "ExecuteTime": {
     "end_time": "2024-09-09T21:01:12.255835Z",
     "start_time": "2024-09-09T21:01:12.250188Z"
    }
   },
   "cell_type": "code",
   "source": "df3 = pd.DataFrame(q3, columns=[\"source\", \"description\"])",
   "id": "76c9f65cae66866b",
   "outputs": [],
   "execution_count": 24
  },
  {
   "metadata": {
    "ExecuteTime": {
     "end_time": "2024-09-09T21:01:12.975522Z",
     "start_time": "2024-09-09T21:01:12.963252Z"
    }
   },
   "cell_type": "code",
   "source": "df3 = df3.astype(str) # convert oxigraph types to string",
   "id": "649efad5629ef8cd",
   "outputs": [],
   "execution_count": 25
  },
  {
   "metadata": {
    "ExecuteTime": {
     "end_time": "2024-09-09T21:01:13.805651Z",
     "start_time": "2024-09-09T21:01:13.801014Z"
    }
   },
   "cell_type": "code",
   "source": "df3",
   "id": "6461c2399f1723f3",
   "outputs": [
    {
     "data": {
      "text/plain": [
       "                                  source  \\\n",
       "0      _:ead5613fc726f598e268a3f3824c001   \n",
       "1     _:d4ffff3334397bfb3e63138305cad674   \n",
       "2     _:7c74ed2f1eb3aa0ee2778ba9ba1d8565   \n",
       "3      _:558cb4f387e613f85154bf92710fe59   \n",
       "4     _:e3c230e71331a1c7ea1a5f29b9e485c4   \n",
       "...                                  ...   \n",
       "4166  _:a08d9537ba7b3c74e98c81721338d963   \n",
       "4167  _:c17276c80c698d01e01bc51c213cf64f   \n",
       "4168  _:491871b6073e53074615c1637216a5f5   \n",
       "4169  _:26b7ed9039489ef390b2aef32fbbdc3c   \n",
       "4170  _:b03940537649a7a2d3803c6c5f45b74b   \n",
       "\n",
       "                                            description  \n",
       "0                                            \"Abstract\"  \n",
       "1                                      \"HLA Genotyping\"  \n",
       "2                                      \"IEDB epitopes.\"  \n",
       "3                                        \"Not Provided\"  \n",
       "4                                        \"Not Provided\"  \n",
       "...                                                 ...  \n",
       "4166  \"Anopheles annularis s.l. and An. vagus adult ...  \n",
       "4167  \"Pooled male and female 30 days old, resistant...  \n",
       "4168  \"Severe acute respiratory syndrome coronavirus...  \n",
       "4169  \"Collection and species identification of vari...  \n",
       "4170  \"Characterization of gene copy number variants...  \n",
       "\n",
       "[4171 rows x 2 columns]"
      ],
      "text/html": [
       "<div>\n",
       "<style scoped>\n",
       "    .dataframe tbody tr th:only-of-type {\n",
       "        vertical-align: middle;\n",
       "    }\n",
       "\n",
       "    .dataframe tbody tr th {\n",
       "        vertical-align: top;\n",
       "    }\n",
       "\n",
       "    .dataframe thead th {\n",
       "        text-align: right;\n",
       "    }\n",
       "</style>\n",
       "<table border=\"1\" class=\"dataframe\">\n",
       "  <thead>\n",
       "    <tr style=\"text-align: right;\">\n",
       "      <th></th>\n",
       "      <th>source</th>\n",
       "      <th>description</th>\n",
       "    </tr>\n",
       "  </thead>\n",
       "  <tbody>\n",
       "    <tr>\n",
       "      <th>0</th>\n",
       "      <td>_:ead5613fc726f598e268a3f3824c001</td>\n",
       "      <td>\"Abstract\"</td>\n",
       "    </tr>\n",
       "    <tr>\n",
       "      <th>1</th>\n",
       "      <td>_:d4ffff3334397bfb3e63138305cad674</td>\n",
       "      <td>\"HLA Genotyping\"</td>\n",
       "    </tr>\n",
       "    <tr>\n",
       "      <th>2</th>\n",
       "      <td>_:7c74ed2f1eb3aa0ee2778ba9ba1d8565</td>\n",
       "      <td>\"IEDB epitopes.\"</td>\n",
       "    </tr>\n",
       "    <tr>\n",
       "      <th>3</th>\n",
       "      <td>_:558cb4f387e613f85154bf92710fe59</td>\n",
       "      <td>\"Not Provided\"</td>\n",
       "    </tr>\n",
       "    <tr>\n",
       "      <th>4</th>\n",
       "      <td>_:e3c230e71331a1c7ea1a5f29b9e485c4</td>\n",
       "      <td>\"Not Provided\"</td>\n",
       "    </tr>\n",
       "    <tr>\n",
       "      <th>...</th>\n",
       "      <td>...</td>\n",
       "      <td>...</td>\n",
       "    </tr>\n",
       "    <tr>\n",
       "      <th>4166</th>\n",
       "      <td>_:a08d9537ba7b3c74e98c81721338d963</td>\n",
       "      <td>\"Anopheles annularis s.l. and An. vagus adult ...</td>\n",
       "    </tr>\n",
       "    <tr>\n",
       "      <th>4167</th>\n",
       "      <td>_:c17276c80c698d01e01bc51c213cf64f</td>\n",
       "      <td>\"Pooled male and female 30 days old, resistant...</td>\n",
       "    </tr>\n",
       "    <tr>\n",
       "      <th>4168</th>\n",
       "      <td>_:491871b6073e53074615c1637216a5f5</td>\n",
       "      <td>\"Severe acute respiratory syndrome coronavirus...</td>\n",
       "    </tr>\n",
       "    <tr>\n",
       "      <th>4169</th>\n",
       "      <td>_:26b7ed9039489ef390b2aef32fbbdc3c</td>\n",
       "      <td>\"Collection and species identification of vari...</td>\n",
       "    </tr>\n",
       "    <tr>\n",
       "      <th>4170</th>\n",
       "      <td>_:b03940537649a7a2d3803c6c5f45b74b</td>\n",
       "      <td>\"Characterization of gene copy number variants...</td>\n",
       "    </tr>\n",
       "  </tbody>\n",
       "</table>\n",
       "<p>4171 rows × 2 columns</p>\n",
       "</div>"
      ]
     },
     "execution_count": 26,
     "metadata": {},
     "output_type": "execute_result"
    }
   ],
   "execution_count": 26
  },
  {
   "metadata": {
    "ExecuteTime": {
     "end_time": "2024-09-09T21:06:20.560556Z",
     "start_time": "2024-09-09T21:06:20.558376Z"
    }
   },
   "cell_type": "code",
   "source": "df_b = pd.DataFrame()",
   "id": "b126adf6d7fda41f",
   "outputs": [],
   "execution_count": 29
  },
  {
   "metadata": {
    "ExecuteTime": {
     "end_time": "2024-09-10T00:32:21.705013Z",
     "start_time": "2024-09-09T21:06:33.695862Z"
    }
   },
   "cell_type": "code",
   "source": [
    "for index, row in tqdm(df3.iterrows(), total=df3.shape[0]):\n",
    "  result_dict = my_function(row)\n",
    "  df = pd.DataFrame(result_dict.spans)\n",
    "  # df = pd.DataFrame(result_dict.triplets)\n",
    "  df['iri'] = row['source']\n",
    "  df_b = pd.concat([df_b, df], ignore_index=True)"
   ],
   "id": "bf1e41b8c128a4bb",
   "outputs": [
    {
     "name": "stderr",
     "output_type": "stream",
     "text": [
      "100%|██████████| 4171/4171 [3:25:47<00:00,  2.96s/it]  \n"
     ]
    }
   ],
   "execution_count": 30
  },
  {
   "metadata": {
    "ExecuteTime": {
     "end_time": "2024-09-10T01:13:24.447480Z",
     "start_time": "2024-09-10T01:13:24.422512Z"
    }
   },
   "cell_type": "code",
   "source": [
    "# takes 3.5 hrs to build\n",
    "df_b.to_parquet('df_b.parquet')"
   ],
   "id": "3c4aee13ce1851f",
   "outputs": [],
   "execution_count": 31
  },
  {
   "metadata": {
    "ExecuteTime": {
     "end_time": "2024-09-10T01:15:31.902522Z",
     "start_time": "2024-09-10T01:15:31.899615Z"
    }
   },
   "cell_type": "code",
   "source": [
    "count_series = df_b['label'].value_counts()\n",
    "\n"
   ],
   "id": "ade85ab985ce36fd",
   "outputs": [],
   "execution_count": 33
  },
  {
   "metadata": {
    "ExecuteTime": {
     "end_time": "2024-09-10T01:16:51.580444Z",
     "start_time": "2024-09-10T01:16:51.575931Z"
    }
   },
   "cell_type": "code",
   "source": "count_series.to_csv('value_counts.csv', header=True, index_label='Value')\n",
   "id": "9860f21ac2f15ef",
   "outputs": [],
   "execution_count": 35
  },
  {
   "metadata": {
    "ExecuteTime": {
     "end_time": "2024-09-10T01:15:46.255759Z",
     "start_time": "2024-09-10T01:15:46.249932Z"
    }
   },
   "cell_type": "code",
   "source": "print(count_series)\n",
   "id": "fa6edd0cb3bf0824",
   "outputs": [
    {
     "name": "stdout",
     "output_type": "stream",
     "text": [
      "label\n",
      "United States                142\n",
      "Plasmodium falciparum        136\n",
      "Anopheles gambiae            109\n",
      "Toxoplasma gondii             94\n",
      "World Health Organization     94\n",
      "                            ... \n",
      "Parakou                        1\n",
      "Malanville                     1\n",
      "ABCB4                          1\n",
      "Anopheles nili                 1\n",
      "Meyerozyma guilliermondii      1\n",
      "Name: count, Length: 1274, dtype: int64\n"
     ]
    }
   ],
   "execution_count": 34
  },
  {
   "metadata": {
    "ExecuteTime": {
     "end_time": "2024-09-10T01:13:26.954925Z",
     "start_time": "2024-09-10T01:13:26.948562Z"
    }
   },
   "cell_type": "code",
   "source": "df_b",
   "id": "fe2c3818b0782563",
   "outputs": [
    {
     "data": {
      "text/plain": [
       "                                     iri   start     end  \\\n",
       "0     _:32847b64efc38e7adece56bbdbf91c44    39.0    59.0   \n",
       "1     _:84ff7b5cda76a10b23ff74d47f7a8906    27.0    37.0   \n",
       "2     _:84ff7b5cda76a10b23ff74d47f7a8906   102.0   112.0   \n",
       "3     _:84ff7b5cda76a10b23ff74d47f7a8906   114.0   119.0   \n",
       "4     _:84ff7b5cda76a10b23ff74d47f7a8906   121.0   124.0   \n",
       "...                                  ...     ...     ...   \n",
       "4608  _:a08d9537ba7b3c74e98c81721338d963     1.0    20.0   \n",
       "4609  _:a08d9537ba7b3c74e98c81721338d963   224.0   227.0   \n",
       "4610  _:a08d9537ba7b3c74e98c81721338d963   240.0   252.0   \n",
       "4611  _:491871b6073e53074615c1637216a5f5  1598.0  1606.0   \n",
       "4612  _:b03940537649a7a2d3803c6c5f45b74b   147.0   160.0   \n",
       "\n",
       "                                  label                  text  \n",
       "0                  Allomyces macrogynus  Allomyces macrogynus  \n",
       "1                     Ada County, Idaho            Ada County  \n",
       "2                     Ada County, Idaho            Ada County  \n",
       "3                                 Idaho                 Idaho  \n",
       "4                         United States                   USA  \n",
       "...                                 ...                   ...  \n",
       "4608                Anopheles annularis   Anopheles annularis  \n",
       "4609                                DDT                   DDT  \n",
       "4610                       Deltamethrin          deltamethrin  \n",
       "4611  Severe acute respiratory syndrome              COVID-19  \n",
       "4612                      Aedes aegypti         Aedes aegypti  \n",
       "\n",
       "[4613 rows x 5 columns]"
      ],
      "text/html": [
       "<div>\n",
       "<style scoped>\n",
       "    .dataframe tbody tr th:only-of-type {\n",
       "        vertical-align: middle;\n",
       "    }\n",
       "\n",
       "    .dataframe tbody tr th {\n",
       "        vertical-align: top;\n",
       "    }\n",
       "\n",
       "    .dataframe thead th {\n",
       "        text-align: right;\n",
       "    }\n",
       "</style>\n",
       "<table border=\"1\" class=\"dataframe\">\n",
       "  <thead>\n",
       "    <tr style=\"text-align: right;\">\n",
       "      <th></th>\n",
       "      <th>iri</th>\n",
       "      <th>start</th>\n",
       "      <th>end</th>\n",
       "      <th>label</th>\n",
       "      <th>text</th>\n",
       "    </tr>\n",
       "  </thead>\n",
       "  <tbody>\n",
       "    <tr>\n",
       "      <th>0</th>\n",
       "      <td>_:32847b64efc38e7adece56bbdbf91c44</td>\n",
       "      <td>39.0</td>\n",
       "      <td>59.0</td>\n",
       "      <td>Allomyces macrogynus</td>\n",
       "      <td>Allomyces macrogynus</td>\n",
       "    </tr>\n",
       "    <tr>\n",
       "      <th>1</th>\n",
       "      <td>_:84ff7b5cda76a10b23ff74d47f7a8906</td>\n",
       "      <td>27.0</td>\n",
       "      <td>37.0</td>\n",
       "      <td>Ada County, Idaho</td>\n",
       "      <td>Ada County</td>\n",
       "    </tr>\n",
       "    <tr>\n",
       "      <th>2</th>\n",
       "      <td>_:84ff7b5cda76a10b23ff74d47f7a8906</td>\n",
       "      <td>102.0</td>\n",
       "      <td>112.0</td>\n",
       "      <td>Ada County, Idaho</td>\n",
       "      <td>Ada County</td>\n",
       "    </tr>\n",
       "    <tr>\n",
       "      <th>3</th>\n",
       "      <td>_:84ff7b5cda76a10b23ff74d47f7a8906</td>\n",
       "      <td>114.0</td>\n",
       "      <td>119.0</td>\n",
       "      <td>Idaho</td>\n",
       "      <td>Idaho</td>\n",
       "    </tr>\n",
       "    <tr>\n",
       "      <th>4</th>\n",
       "      <td>_:84ff7b5cda76a10b23ff74d47f7a8906</td>\n",
       "      <td>121.0</td>\n",
       "      <td>124.0</td>\n",
       "      <td>United States</td>\n",
       "      <td>USA</td>\n",
       "    </tr>\n",
       "    <tr>\n",
       "      <th>...</th>\n",
       "      <td>...</td>\n",
       "      <td>...</td>\n",
       "      <td>...</td>\n",
       "      <td>...</td>\n",
       "      <td>...</td>\n",
       "    </tr>\n",
       "    <tr>\n",
       "      <th>4608</th>\n",
       "      <td>_:a08d9537ba7b3c74e98c81721338d963</td>\n",
       "      <td>1.0</td>\n",
       "      <td>20.0</td>\n",
       "      <td>Anopheles annularis</td>\n",
       "      <td>Anopheles annularis</td>\n",
       "    </tr>\n",
       "    <tr>\n",
       "      <th>4609</th>\n",
       "      <td>_:a08d9537ba7b3c74e98c81721338d963</td>\n",
       "      <td>224.0</td>\n",
       "      <td>227.0</td>\n",
       "      <td>DDT</td>\n",
       "      <td>DDT</td>\n",
       "    </tr>\n",
       "    <tr>\n",
       "      <th>4610</th>\n",
       "      <td>_:a08d9537ba7b3c74e98c81721338d963</td>\n",
       "      <td>240.0</td>\n",
       "      <td>252.0</td>\n",
       "      <td>Deltamethrin</td>\n",
       "      <td>deltamethrin</td>\n",
       "    </tr>\n",
       "    <tr>\n",
       "      <th>4611</th>\n",
       "      <td>_:491871b6073e53074615c1637216a5f5</td>\n",
       "      <td>1598.0</td>\n",
       "      <td>1606.0</td>\n",
       "      <td>Severe acute respiratory syndrome</td>\n",
       "      <td>COVID-19</td>\n",
       "    </tr>\n",
       "    <tr>\n",
       "      <th>4612</th>\n",
       "      <td>_:b03940537649a7a2d3803c6c5f45b74b</td>\n",
       "      <td>147.0</td>\n",
       "      <td>160.0</td>\n",
       "      <td>Aedes aegypti</td>\n",
       "      <td>Aedes aegypti</td>\n",
       "    </tr>\n",
       "  </tbody>\n",
       "</table>\n",
       "<p>4613 rows × 5 columns</p>\n",
       "</div>"
      ]
     },
     "execution_count": 32,
     "metadata": {},
     "output_type": "execute_result"
    }
   ],
   "execution_count": 32
  },
  {
   "metadata": {},
   "cell_type": "code",
   "outputs": [],
   "execution_count": null,
   "source": "",
   "id": "b45e06550df0bb7e"
  }
 ],
 "metadata": {
  "kernelspec": {
   "display_name": "Python 3 (ipykernel)",
   "language": "python",
   "name": "python3"
  },
  "language_info": {
   "codemirror_mode": {
    "name": "ipython",
    "version": 3
   },
   "file_extension": ".py",
   "mimetype": "text/x-python",
   "name": "python",
   "nbconvert_exporter": "python",
   "pygments_lexer": "ipython3",
   "version": "3.10.12"
  }
 },
 "nbformat": 4,
 "nbformat_minor": 5
}
